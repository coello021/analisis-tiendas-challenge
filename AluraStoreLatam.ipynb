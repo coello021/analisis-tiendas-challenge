{
  "nbformat": 4,
  "nbformat_minor": 0,
  "metadata": {
    "colab": {
      "provenance": []
    },
    "kernelspec": {
      "name": "python3",
      "display_name": "Python 3"
    },
    "language_info": {
      "name": "python"
    }
  },
  "cells": [
    {
      "cell_type": "markdown",
      "source": [
        "### Importación de datos\n",
        "\n"
      ],
      "metadata": {
        "id": "RhEdWd9YUR6H"
      }
    },
    {
      "cell_type": "code",
      "execution_count": 3,
      "metadata": {
        "colab": {
          "base_uri": "https://localhost:8080/",
          "height": 293
        },
        "id": "T3EvaeQ_INIL",
        "outputId": "5a404f07-8cab-4b60-ee0d-5150a36e049f"
      },
      "outputs": [
        {
          "output_type": "execute_result",
          "data": {
            "text/plain": [
              "            Producto Categoría del Producto    Precio  Costo de envío  \\\n",
              "0  Asistente virtual           Electrónicos  164300.0          6900.0   \n",
              "1    Mesa de comedor                Muebles  192300.0          8400.0   \n",
              "2      Juego de mesa               Juguetes  209600.0         15900.0   \n",
              "3         Microondas      Electrodomésticos  757500.0         41000.0   \n",
              "4   Silla de oficina                Muebles  335200.0         20200.0   \n",
              "\n",
              "  Fecha de Compra         Vendedor Lugar de Compra  Calificación  \\\n",
              "0      16/01/2021      Pedro Gomez          Bogotá             4   \n",
              "1      18/05/2022  Beatriz Morales        Medellín             1   \n",
              "2      15/03/2021   Juan Fernandez       Cartagena             1   \n",
              "3      03/05/2022   Juan Fernandez            Cali             4   \n",
              "4      07/11/2020    Maria Alfonso        Medellín             5   \n",
              "\n",
              "       Método de pago  Cantidad de cuotas       lat       lon  \n",
              "0  Tarjeta de crédito                   8   4.60971 -74.08175  \n",
              "1  Tarjeta de crédito                   4   6.25184 -75.56359  \n",
              "2  Tarjeta de crédito                   1  10.39972 -75.51444  \n",
              "3               Nequi                   1   3.43722 -76.52250  \n",
              "4               Nequi                   1   6.25184 -75.56359  "
            ],
            "text/html": [
              "\n",
              "  <div id=\"df-e7a96c3e-174e-4730-8eaf-c7a733465357\" class=\"colab-df-container\">\n",
              "    <div>\n",
              "<style scoped>\n",
              "    .dataframe tbody tr th:only-of-type {\n",
              "        vertical-align: middle;\n",
              "    }\n",
              "\n",
              "    .dataframe tbody tr th {\n",
              "        vertical-align: top;\n",
              "    }\n",
              "\n",
              "    .dataframe thead th {\n",
              "        text-align: right;\n",
              "    }\n",
              "</style>\n",
              "<table border=\"1\" class=\"dataframe\">\n",
              "  <thead>\n",
              "    <tr style=\"text-align: right;\">\n",
              "      <th></th>\n",
              "      <th>Producto</th>\n",
              "      <th>Categoría del Producto</th>\n",
              "      <th>Precio</th>\n",
              "      <th>Costo de envío</th>\n",
              "      <th>Fecha de Compra</th>\n",
              "      <th>Vendedor</th>\n",
              "      <th>Lugar de Compra</th>\n",
              "      <th>Calificación</th>\n",
              "      <th>Método de pago</th>\n",
              "      <th>Cantidad de cuotas</th>\n",
              "      <th>lat</th>\n",
              "      <th>lon</th>\n",
              "    </tr>\n",
              "  </thead>\n",
              "  <tbody>\n",
              "    <tr>\n",
              "      <th>0</th>\n",
              "      <td>Asistente virtual</td>\n",
              "      <td>Electrónicos</td>\n",
              "      <td>164300.0</td>\n",
              "      <td>6900.0</td>\n",
              "      <td>16/01/2021</td>\n",
              "      <td>Pedro Gomez</td>\n",
              "      <td>Bogotá</td>\n",
              "      <td>4</td>\n",
              "      <td>Tarjeta de crédito</td>\n",
              "      <td>8</td>\n",
              "      <td>4.60971</td>\n",
              "      <td>-74.08175</td>\n",
              "    </tr>\n",
              "    <tr>\n",
              "      <th>1</th>\n",
              "      <td>Mesa de comedor</td>\n",
              "      <td>Muebles</td>\n",
              "      <td>192300.0</td>\n",
              "      <td>8400.0</td>\n",
              "      <td>18/05/2022</td>\n",
              "      <td>Beatriz Morales</td>\n",
              "      <td>Medellín</td>\n",
              "      <td>1</td>\n",
              "      <td>Tarjeta de crédito</td>\n",
              "      <td>4</td>\n",
              "      <td>6.25184</td>\n",
              "      <td>-75.56359</td>\n",
              "    </tr>\n",
              "    <tr>\n",
              "      <th>2</th>\n",
              "      <td>Juego de mesa</td>\n",
              "      <td>Juguetes</td>\n",
              "      <td>209600.0</td>\n",
              "      <td>15900.0</td>\n",
              "      <td>15/03/2021</td>\n",
              "      <td>Juan Fernandez</td>\n",
              "      <td>Cartagena</td>\n",
              "      <td>1</td>\n",
              "      <td>Tarjeta de crédito</td>\n",
              "      <td>1</td>\n",
              "      <td>10.39972</td>\n",
              "      <td>-75.51444</td>\n",
              "    </tr>\n",
              "    <tr>\n",
              "      <th>3</th>\n",
              "      <td>Microondas</td>\n",
              "      <td>Electrodomésticos</td>\n",
              "      <td>757500.0</td>\n",
              "      <td>41000.0</td>\n",
              "      <td>03/05/2022</td>\n",
              "      <td>Juan Fernandez</td>\n",
              "      <td>Cali</td>\n",
              "      <td>4</td>\n",
              "      <td>Nequi</td>\n",
              "      <td>1</td>\n",
              "      <td>3.43722</td>\n",
              "      <td>-76.52250</td>\n",
              "    </tr>\n",
              "    <tr>\n",
              "      <th>4</th>\n",
              "      <td>Silla de oficina</td>\n",
              "      <td>Muebles</td>\n",
              "      <td>335200.0</td>\n",
              "      <td>20200.0</td>\n",
              "      <td>07/11/2020</td>\n",
              "      <td>Maria Alfonso</td>\n",
              "      <td>Medellín</td>\n",
              "      <td>5</td>\n",
              "      <td>Nequi</td>\n",
              "      <td>1</td>\n",
              "      <td>6.25184</td>\n",
              "      <td>-75.56359</td>\n",
              "    </tr>\n",
              "  </tbody>\n",
              "</table>\n",
              "</div>\n",
              "    <div class=\"colab-df-buttons\">\n",
              "\n",
              "  <div class=\"colab-df-container\">\n",
              "    <button class=\"colab-df-convert\" onclick=\"convertToInteractive('df-e7a96c3e-174e-4730-8eaf-c7a733465357')\"\n",
              "            title=\"Convert this dataframe to an interactive table.\"\n",
              "            style=\"display:none;\">\n",
              "\n",
              "  <svg xmlns=\"http://www.w3.org/2000/svg\" height=\"24px\" viewBox=\"0 -960 960 960\">\n",
              "    <path d=\"M120-120v-720h720v720H120Zm60-500h600v-160H180v160Zm220 220h160v-160H400v160Zm0 220h160v-160H400v160ZM180-400h160v-160H180v160Zm440 0h160v-160H620v160ZM180-180h160v-160H180v160Zm440 0h160v-160H620v160Z\"/>\n",
              "  </svg>\n",
              "    </button>\n",
              "\n",
              "  <style>\n",
              "    .colab-df-container {\n",
              "      display:flex;\n",
              "      gap: 12px;\n",
              "    }\n",
              "\n",
              "    .colab-df-convert {\n",
              "      background-color: #E8F0FE;\n",
              "      border: none;\n",
              "      border-radius: 50%;\n",
              "      cursor: pointer;\n",
              "      display: none;\n",
              "      fill: #1967D2;\n",
              "      height: 32px;\n",
              "      padding: 0 0 0 0;\n",
              "      width: 32px;\n",
              "    }\n",
              "\n",
              "    .colab-df-convert:hover {\n",
              "      background-color: #E2EBFA;\n",
              "      box-shadow: 0px 1px 2px rgba(60, 64, 67, 0.3), 0px 1px 3px 1px rgba(60, 64, 67, 0.15);\n",
              "      fill: #174EA6;\n",
              "    }\n",
              "\n",
              "    .colab-df-buttons div {\n",
              "      margin-bottom: 4px;\n",
              "    }\n",
              "\n",
              "    [theme=dark] .colab-df-convert {\n",
              "      background-color: #3B4455;\n",
              "      fill: #D2E3FC;\n",
              "    }\n",
              "\n",
              "    [theme=dark] .colab-df-convert:hover {\n",
              "      background-color: #434B5C;\n",
              "      box-shadow: 0px 1px 3px 1px rgba(0, 0, 0, 0.15);\n",
              "      filter: drop-shadow(0px 1px 2px rgba(0, 0, 0, 0.3));\n",
              "      fill: #FFFFFF;\n",
              "    }\n",
              "  </style>\n",
              "\n",
              "    <script>\n",
              "      const buttonEl =\n",
              "        document.querySelector('#df-e7a96c3e-174e-4730-8eaf-c7a733465357 button.colab-df-convert');\n",
              "      buttonEl.style.display =\n",
              "        google.colab.kernel.accessAllowed ? 'block' : 'none';\n",
              "\n",
              "      async function convertToInteractive(key) {\n",
              "        const element = document.querySelector('#df-e7a96c3e-174e-4730-8eaf-c7a733465357');\n",
              "        const dataTable =\n",
              "          await google.colab.kernel.invokeFunction('convertToInteractive',\n",
              "                                                    [key], {});\n",
              "        if (!dataTable) return;\n",
              "\n",
              "        const docLinkHtml = 'Like what you see? Visit the ' +\n",
              "          '<a target=\"_blank\" href=https://colab.research.google.com/notebooks/data_table.ipynb>data table notebook</a>'\n",
              "          + ' to learn more about interactive tables.';\n",
              "        element.innerHTML = '';\n",
              "        dataTable['output_type'] = 'display_data';\n",
              "        await google.colab.output.renderOutput(dataTable, element);\n",
              "        const docLink = document.createElement('div');\n",
              "        docLink.innerHTML = docLinkHtml;\n",
              "        element.appendChild(docLink);\n",
              "      }\n",
              "    </script>\n",
              "  </div>\n",
              "\n",
              "\n",
              "    <div id=\"df-e72b3be5-8183-4882-a530-7ce4d31c1ffa\">\n",
              "      <button class=\"colab-df-quickchart\" onclick=\"quickchart('df-e72b3be5-8183-4882-a530-7ce4d31c1ffa')\"\n",
              "                title=\"Suggest charts\"\n",
              "                style=\"display:none;\">\n",
              "\n",
              "<svg xmlns=\"http://www.w3.org/2000/svg\" height=\"24px\"viewBox=\"0 0 24 24\"\n",
              "     width=\"24px\">\n",
              "    <g>\n",
              "        <path d=\"M19 3H5c-1.1 0-2 .9-2 2v14c0 1.1.9 2 2 2h14c1.1 0 2-.9 2-2V5c0-1.1-.9-2-2-2zM9 17H7v-7h2v7zm4 0h-2V7h2v10zm4 0h-2v-4h2v4z\"/>\n",
              "    </g>\n",
              "</svg>\n",
              "      </button>\n",
              "\n",
              "<style>\n",
              "  .colab-df-quickchart {\n",
              "      --bg-color: #E8F0FE;\n",
              "      --fill-color: #1967D2;\n",
              "      --hover-bg-color: #E2EBFA;\n",
              "      --hover-fill-color: #174EA6;\n",
              "      --disabled-fill-color: #AAA;\n",
              "      --disabled-bg-color: #DDD;\n",
              "  }\n",
              "\n",
              "  [theme=dark] .colab-df-quickchart {\n",
              "      --bg-color: #3B4455;\n",
              "      --fill-color: #D2E3FC;\n",
              "      --hover-bg-color: #434B5C;\n",
              "      --hover-fill-color: #FFFFFF;\n",
              "      --disabled-bg-color: #3B4455;\n",
              "      --disabled-fill-color: #666;\n",
              "  }\n",
              "\n",
              "  .colab-df-quickchart {\n",
              "    background-color: var(--bg-color);\n",
              "    border: none;\n",
              "    border-radius: 50%;\n",
              "    cursor: pointer;\n",
              "    display: none;\n",
              "    fill: var(--fill-color);\n",
              "    height: 32px;\n",
              "    padding: 0;\n",
              "    width: 32px;\n",
              "  }\n",
              "\n",
              "  .colab-df-quickchart:hover {\n",
              "    background-color: var(--hover-bg-color);\n",
              "    box-shadow: 0 1px 2px rgba(60, 64, 67, 0.3), 0 1px 3px 1px rgba(60, 64, 67, 0.15);\n",
              "    fill: var(--button-hover-fill-color);\n",
              "  }\n",
              "\n",
              "  .colab-df-quickchart-complete:disabled,\n",
              "  .colab-df-quickchart-complete:disabled:hover {\n",
              "    background-color: var(--disabled-bg-color);\n",
              "    fill: var(--disabled-fill-color);\n",
              "    box-shadow: none;\n",
              "  }\n",
              "\n",
              "  .colab-df-spinner {\n",
              "    border: 2px solid var(--fill-color);\n",
              "    border-color: transparent;\n",
              "    border-bottom-color: var(--fill-color);\n",
              "    animation:\n",
              "      spin 1s steps(1) infinite;\n",
              "  }\n",
              "\n",
              "  @keyframes spin {\n",
              "    0% {\n",
              "      border-color: transparent;\n",
              "      border-bottom-color: var(--fill-color);\n",
              "      border-left-color: var(--fill-color);\n",
              "    }\n",
              "    20% {\n",
              "      border-color: transparent;\n",
              "      border-left-color: var(--fill-color);\n",
              "      border-top-color: var(--fill-color);\n",
              "    }\n",
              "    30% {\n",
              "      border-color: transparent;\n",
              "      border-left-color: var(--fill-color);\n",
              "      border-top-color: var(--fill-color);\n",
              "      border-right-color: var(--fill-color);\n",
              "    }\n",
              "    40% {\n",
              "      border-color: transparent;\n",
              "      border-right-color: var(--fill-color);\n",
              "      border-top-color: var(--fill-color);\n",
              "    }\n",
              "    60% {\n",
              "      border-color: transparent;\n",
              "      border-right-color: var(--fill-color);\n",
              "    }\n",
              "    80% {\n",
              "      border-color: transparent;\n",
              "      border-right-color: var(--fill-color);\n",
              "      border-bottom-color: var(--fill-color);\n",
              "    }\n",
              "    90% {\n",
              "      border-color: transparent;\n",
              "      border-bottom-color: var(--fill-color);\n",
              "    }\n",
              "  }\n",
              "</style>\n",
              "\n",
              "      <script>\n",
              "        async function quickchart(key) {\n",
              "          const quickchartButtonEl =\n",
              "            document.querySelector('#' + key + ' button');\n",
              "          quickchartButtonEl.disabled = true;  // To prevent multiple clicks.\n",
              "          quickchartButtonEl.classList.add('colab-df-spinner');\n",
              "          try {\n",
              "            const charts = await google.colab.kernel.invokeFunction(\n",
              "                'suggestCharts', [key], {});\n",
              "          } catch (error) {\n",
              "            console.error('Error during call to suggestCharts:', error);\n",
              "          }\n",
              "          quickchartButtonEl.classList.remove('colab-df-spinner');\n",
              "          quickchartButtonEl.classList.add('colab-df-quickchart-complete');\n",
              "        }\n",
              "        (() => {\n",
              "          let quickchartButtonEl =\n",
              "            document.querySelector('#df-e72b3be5-8183-4882-a530-7ce4d31c1ffa button');\n",
              "          quickchartButtonEl.style.display =\n",
              "            google.colab.kernel.accessAllowed ? 'block' : 'none';\n",
              "        })();\n",
              "      </script>\n",
              "    </div>\n",
              "\n",
              "    </div>\n",
              "  </div>\n"
            ],
            "application/vnd.google.colaboratory.intrinsic+json": {
              "type": "dataframe",
              "variable_name": "tienda",
              "summary": "{\n  \"name\": \"tienda\",\n  \"rows\": 2359,\n  \"fields\": [\n    {\n      \"column\": \"Producto\",\n      \"properties\": {\n        \"dtype\": \"category\",\n        \"num_unique_values\": 51,\n        \"samples\": [\n          \"Guitarra ac\\u00fastica\",\n          \"Bal\\u00f3n de baloncesto\",\n          \"Smartwatch\"\n        ],\n        \"semantic_type\": \"\",\n        \"description\": \"\"\n      }\n    },\n    {\n      \"column\": \"Categor\\u00eda del Producto\",\n      \"properties\": {\n        \"dtype\": \"category\",\n        \"num_unique_values\": 8,\n        \"samples\": [\n          \"Muebles\",\n          \"Deportes y diversi\\u00f3n\",\n          \"Electr\\u00f3nicos\"\n        ],\n        \"semantic_type\": \"\",\n        \"description\": \"\"\n      }\n    },\n    {\n      \"column\": \"Precio\",\n      \"properties\": {\n        \"dtype\": \"number\",\n        \"std\": 614686.7653873172,\n        \"min\": 7600.0,\n        \"max\": 2977000.0,\n        \"num_unique_values\": 1937,\n        \"samples\": [\n          2499400.0,\n          14800.0,\n          80500.0\n        ],\n        \"semantic_type\": \"\",\n        \"description\": \"\"\n      }\n    },\n    {\n      \"column\": \"Costo de env\\u00edo\",\n      \"properties\": {\n        \"dtype\": \"number\",\n        \"std\": 32860.0017825605,\n        \"min\": 0.0,\n        \"max\": 160800.0,\n        \"num_unique_values\": 753,\n        \"samples\": [\n          117800.0,\n          54700.0,\n          45600.0\n        ],\n        \"semantic_type\": \"\",\n        \"description\": \"\"\n      }\n    },\n    {\n      \"column\": \"Fecha de Compra\",\n      \"properties\": {\n        \"dtype\": \"object\",\n        \"num_unique_values\": 1018,\n        \"samples\": [\n          \"15/09/2022\",\n          \"03/06/2020\",\n          \"06/11/2021\"\n        ],\n        \"semantic_type\": \"\",\n        \"description\": \"\"\n      }\n    },\n    {\n      \"column\": \"Vendedor\",\n      \"properties\": {\n        \"dtype\": \"category\",\n        \"num_unique_values\": 14,\n        \"samples\": [\n          \"Juliana Costa\",\n          \"Mariana Herrera\",\n          \"Pedro Gomez\"\n        ],\n        \"semantic_type\": \"\",\n        \"description\": \"\"\n      }\n    },\n    {\n      \"column\": \"Lugar de Compra\",\n      \"properties\": {\n        \"dtype\": \"category\",\n        \"num_unique_values\": 19,\n        \"samples\": [\n          \"Bogot\\u00e1\",\n          \"Pereira\",\n          \"Neiva\"\n        ],\n        \"semantic_type\": \"\",\n        \"description\": \"\"\n      }\n    },\n    {\n      \"column\": \"Calificaci\\u00f3n\",\n      \"properties\": {\n        \"dtype\": \"number\",\n        \"std\": 1,\n        \"min\": 1,\n        \"max\": 5,\n        \"num_unique_values\": 5,\n        \"samples\": [\n          1,\n          2,\n          5\n        ],\n        \"semantic_type\": \"\",\n        \"description\": \"\"\n      }\n    },\n    {\n      \"column\": \"M\\u00e9todo de pago\",\n      \"properties\": {\n        \"dtype\": \"category\",\n        \"num_unique_values\": 4,\n        \"samples\": [\n          \"Nequi\",\n          \"Tarjeta de d\\u00e9bito\",\n          \"Tarjeta de cr\\u00e9dito\"\n        ],\n        \"semantic_type\": \"\",\n        \"description\": \"\"\n      }\n    },\n    {\n      \"column\": \"Cantidad de cuotas\",\n      \"properties\": {\n        \"dtype\": \"number\",\n        \"std\": 2,\n        \"min\": 1,\n        \"max\": 24,\n        \"num_unique_values\": 15,\n        \"samples\": [\n          7,\n          14,\n          8\n        ],\n        \"semantic_type\": \"\",\n        \"description\": \"\"\n      }\n    },\n    {\n      \"column\": \"lat\",\n      \"properties\": {\n        \"dtype\": \"number\",\n        \"std\": 2.2874452492678627,\n        \"min\": -4.21528,\n        \"max\": 11.54444,\n        \"num_unique_values\": 19,\n        \"samples\": [\n          4.60971,\n          4.81333,\n          2.9273\n        ],\n        \"semantic_type\": \"\",\n        \"description\": \"\"\n      }\n    },\n    {\n      \"column\": \"lon\",\n      \"properties\": {\n        \"dtype\": \"number\",\n        \"std\": 1.2178272727088486,\n        \"min\": -77.28111,\n        \"max\": -67.9239,\n        \"num_unique_values\": 19,\n        \"samples\": [\n          -74.08175,\n          -75.69611,\n          -75.28189\n        ],\n        \"semantic_type\": \"\",\n        \"description\": \"\"\n      }\n    }\n  ]\n}"
            }
          },
          "metadata": {},
          "execution_count": 3
        }
      ],
      "source": [
        "import pandas as pd\n",
        "\n",
        "url = \"https://raw.githubusercontent.com/alura-es-cursos/challenge1-data-science-latam/refs/heads/main/base-de-datos-challenge1-latam/tienda_1%20.csv\"\n",
        "url2 = \"https://raw.githubusercontent.com/alura-es-cursos/challenge1-data-science-latam/refs/heads/main/base-de-datos-challenge1-latam/tienda_2.csv\"\n",
        "url3 = \"https://raw.githubusercontent.com/alura-es-cursos/challenge1-data-science-latam/refs/heads/main/base-de-datos-challenge1-latam/tienda_3.csv\"\n",
        "url4 = \"https://raw.githubusercontent.com/alura-es-cursos/challenge1-data-science-latam/refs/heads/main/base-de-datos-challenge1-latam/tienda_4.csv\"\n",
        "\n",
        "tienda = pd.read_csv(url)\n",
        "tienda2 = pd.read_csv(url2)\n",
        "tienda3 = pd.read_csv(url3)\n",
        "tienda4 = pd.read_csv(url4)\n",
        "\n",
        "tienda.head()"
      ]
    },
    {
      "cell_type": "markdown",
      "source": [
        "# 📘 Informe de análisis – Alura Store\n",
        "\n"
      ],
      "metadata": {
        "id": "KxtrF34JvbRq"
      }
    },
    {
      "cell_type": "markdown",
      "source": [
        "# 📘 Introducción\n",
        "\n",
        "El presente análisis tiene como propósito apoyar al Sr. Juan en una decisión estratégica: **elegir cuál tienda de la cadena Alura Store debe vender** para emprender una nueva etapa comercial.\n",
        "\n",
        "Para ello, se ha realizado un estudio comparativo de desempeño entre las cuatro tiendas de la red, tomando en cuenta factores clave como:\n",
        "\n",
        "- 🔹 Facturación total\n",
        "- 🔹 Distribución de ventas por categoría\n",
        "- 🔹 Calificaciones promedio otorgadas por clientes\n",
        "- 🔹 Productos con mayor y menor rotación\n",
        "- 🔹 Costo de envío promedio\n",
        "\n",
        "Este conjunto de métricas nos permitira detectar cuál tienda presenta **menor eficiencia operativa y comercial**, y fundamentar una recomendación clara y objetiva.\n"
      ],
      "metadata": {
        "id": "yTHxmmrMIhku"
      }
    },
    {
      "cell_type": "markdown",
      "source": [
        "## 🧮 Análisis de facturación\n",
        "\n"
      ],
      "metadata": {
        "id": "X62IW3KFUIYm"
      }
    },
    {
      "cell_type": "code",
      "source": [
        "def calcular_facturacion(tienda):\n",
        "    return tienda[\"Precio\"].sum()\n",
        "fact1 = calcular_facturacion(tienda)\n",
        "fact2 = calcular_facturacion(tienda2)\n",
        "fact3 = calcular_facturacion(tienda3)\n",
        "fact4 = calcular_facturacion(tienda4)\n",
        "\n",
        "print(\"📊 Facturación total por tienda:\")\n",
        "print(f\"  - Tienda 1: ${round(fact1, 2):,.2f}\")\n",
        "print(f\"  - Tienda 2: ${round(fact2, 2):,.2f}\")\n",
        "print(f\"  - Tienda 3: ${round(fact3, 2):,.2f}\")\n",
        "print(f\"  - Tienda 4: ${round(fact4, 2):,.2f}\")\n",
        "facturacion = {\n",
        "    \"Tienda 1\": fact1,\n",
        "    \"Tienda 2\": fact2,\n",
        "    \"Tienda 3\": fact3,\n",
        "    \"Tienda 4\": fact4\n",
        "}\n"
      ],
      "metadata": {
        "id": "xykobSftV64I",
        "colab": {
          "base_uri": "https://localhost:8080/"
        },
        "outputId": "c9171b7f-d9e1-41a9-f7c0-5d3947c28a04"
      },
      "execution_count": null,
      "outputs": [
        {
          "output_type": "stream",
          "name": "stdout",
          "text": [
            "📊 Facturación total por tienda:\n",
            "  - Tienda 1: $1,150,880,400.00\n",
            "  - Tienda 2: $1,116,343,500.00\n",
            "  - Tienda 3: $1,098,019,600.00\n",
            "  - Tienda 4: $1,038,375,700.00\n"
          ]
        }
      ]
    },
    {
      "cell_type": "code",
      "source": [
        "import matplotlib.pyplot as plt\n",
        "\n",
        "plt.figure(figsize=(8, 5))\n",
        "plt.bar(facturacion.keys(), facturacion.values(), color=\"mediumseagreen\")\n",
        "\n",
        "plt.title(\" Facturación Total por Tienda\", fontsize=14)\n",
        "plt.ylabel(\"Pesos colombianos\")\n",
        "plt.grid(axis=\"y\", linestyle=\"--\", alpha=0.5)\n",
        "plt.tight_layout()\n",
        "plt.show()"
      ],
      "metadata": {
        "colab": {
          "base_uri": "https://localhost:8080/",
          "height": 507
        },
        "id": "WWhJU1hNTaxG",
        "outputId": "4ac5c307-f719-4713-bdb3-5f394e6ed2c5"
      },
      "execution_count": null,
      "outputs": [
        {
          "output_type": "display_data",
          "data": {
            "text/plain": [
              "<Figure size 800x500 with 1 Axes>"
            ],
            "image/png": "[encoded data removed]"
          },
          "metadata": {}
        }
      ]
    },
    {
      "cell_type": "markdown",
      "source": [
        "### 📌 La facturación total es un indicador clave del desempeño comercial de cada tienda.\n",
        "En este análisis se observa que:\n",
        "\n",
        "**Tienda 1** lidera con la mayor facturación, superando los $1.150 millones de pesos.\n",
        "\n",
        "Le siguen **Tienda 2** y **Tienda 3**, con niveles cercanos pero ligeramente inferiores.\n",
        "\n",
        "**Tienda 4** presenta la facturación más baja, con $1.038 millones de pesos, marcando una diferencia significativa respecto a las demás.\n",
        "\n",
        "Esta brecha de ingresos sugiere que **Tienda 4 podría ser menos eficiente comercialmente**, ya sea por menor volumen de ventas, rotación de productos o nivel de atracción al cliente.\n"
      ],
      "metadata": {
        "id": "2-aAii7hLQVq"
      }
    },
    {
      "cell_type": "markdown",
      "source": [
        "# 📦 Ventas por categoría"
      ],
      "metadata": {
        "id": "2V_vcAPzWZmR"
      }
    },
    {
      "cell_type": "code",
      "source": [
        "import pandas as pd\n",
        "\n",
        "def obtener_top_categorias(df, nombre_tienda):\n",
        "    categorias = df[\"Categoría del Producto\"].value_counts().head(5)\n",
        "    return pd.DataFrame({\n",
        "        \"Categoría\": categorias.index,\n",
        "        nombre_tienda: categorias.values\n",
        "    })\n",
        "\n",
        "# Obtener tablas individuales\n",
        "tabla1 = obtener_top_categorias(tienda, \"Tienda 1\")\n",
        "tabla2 = obtener_top_categorias(tienda2, \"Tienda 2\")\n",
        "tabla3 = obtener_top_categorias(tienda3, \"Tienda 3\")\n",
        "tabla4 = obtener_top_categorias(tienda4, \"Tienda 4\")\n",
        "\n",
        "# Combinar todas las tablas\n",
        "tabla_comparativa = pd.merge(tabla1, tabla2, on=\"Categoría\", how=\"outer\")\n",
        "tabla_comparativa = pd.merge(tabla_comparativa, tabla3, on=\"Categoría\", how=\"outer\")\n",
        "tabla_comparativa = pd.merge(tabla_comparativa, tabla4, on=\"Categoría\", how=\"outer\")\n",
        "\n",
        "# Rellenar valores faltantes con cero\n",
        "tabla_comparativa = tabla_comparativa.fillna(0).astype({\"Tienda 1\": int, \"Tienda 2\": int, \"Tienda 3\": int, \"Tienda 4\": int})\n",
        "\n",
        "# Mostrar tabla\n",
        "print(\"\\n🧮 Ventas por Categoría por Tienda (Top 5)\")\n",
        "print(tabla_comparativa.to_markdown(index=False))\n",
        "\n"
      ],
      "metadata": {
        "id": "A34YupIuYhfF",
        "colab": {
          "base_uri": "https://localhost:8080/"
        },
        "outputId": "4a711aeb-8268-48d6-efa0-f59c8d0c54f8"
      },
      "execution_count": null,
      "outputs": [
        {
          "output_type": "stream",
          "name": "stdout",
          "text": [
            "\n",
            "🧮 Ventas por Categoría por Tienda (Top 5)\n",
            "| Categoría            |   Tienda 1 |   Tienda 2 |   Tienda 3 |   Tienda 4 |\n",
            "|:---------------------|-----------:|-----------:|-----------:|-----------:|\n",
            "| Deportes y diversión |        284 |        275 |        277 |        277 |\n",
            "| Electrodomésticos    |        312 |        305 |        278 |        254 |\n",
            "| Electrónicos         |        448 |        422 |        451 |        451 |\n",
            "| Juguetes             |        324 |        313 |        315 |        338 |\n",
            "| Muebles              |        465 |        442 |        499 |        480 |\n"
          ]
        }
      ]
    },
    {
      "cell_type": "markdown",
      "source": [
        "#### 🔍 Observaciones:\n",
        "\n",
        "- La categoría **Muebles** lidera en todas las tiendas, especialmente en **Tienda 3 (499 unidades)**, lo que puede indicar especialización o mayor demanda en ese segmento.\n",
        "- **Electrónicos** también tienen alto volumen, con Tienda 3 y Tienda 4 empatadas en 451 unidades.\n",
        "- **Tienda 4** se destaca sutilmente en **Juguetes (338 unidades)**, siendo la única en superar a las demás en esa categoría.\n",
        "- La categoría más débil para todas las tiendas es **Electrodomésticos**, donde **Tienda 4** tiene el volumen más bajo (**254 unidades**), lo que podría reflejar menor rotación o una oferta menos competitiva.\n",
        "\n",
        "####  Relevancia para la decisión:\n",
        "\n",
        "Este análisis muestra que aunque **Tienda 4 tiene buen desempeño en juguetes**, en el resto de categorías clave su rendimiento es inferior. Particularmente en **Electrodomésticos**, la diferencia respecto a otras tiendas es notable. Combinado con datos de facturación y satisfacción, esto aporta evidencia de menor eficiencia comercial."
      ],
      "metadata": {
        "id": "owsN8abaa2Mc"
      }
    },
    {
      "cell_type": "markdown",
      "source": [
        "# ⭐ Calificación promedio\n"
      ],
      "metadata": {
        "id": "Rq6tU_xSY3jk"
      }
    },
    {
      "cell_type": "code",
      "source": [
        "# Tienda 1\n",
        "prom1 = tienda[\"Calificación\"].mean()\n",
        "print(\"Tienda 1:\", round(prom1, 2))\n",
        "\n",
        "# Tienda 2\n",
        "prom2 = tienda2[\"Calificación\"].mean()\n",
        "print(\"Tienda 2:\", round(prom2, 2))\n",
        "\n",
        "# Tienda 3\n",
        "prom3 = tienda3[\"Calificación\"].mean()\n",
        "print(\"Tienda 3:\", round(prom3, 2))\n",
        "\n",
        "# Tienda 4\n",
        "prom4 = tienda4[\"Calificación\"].mean()\n",
        "print(\"Tienda 4:\", round(prom4, 2))\n"
      ],
      "metadata": {
        "id": "bh3jjjJwY5MU",
        "colab": {
          "base_uri": "https://localhost:8080/"
        },
        "outputId": "2df8c54a-f8d5-4752-d0d5-e89198999ca6"
      },
      "execution_count": null,
      "outputs": [
        {
          "output_type": "stream",
          "name": "stdout",
          "text": [
            "Tienda 1: 3.98\n",
            "Tienda 2: 4.04\n",
            "Tienda 3: 4.05\n",
            "Tienda 4: 4.0\n"
          ]
        }
      ]
    },
    {
      "cell_type": "code",
      "source": [
        "plt.figure(figsize=(8, 5))\n",
        "plt.plot(tiendas, calificaciones, marker='o', linestyle='-', color='royalblue')\n",
        "plt.title(' Evolución de la calificación promedio por tienda')\n",
        "plt.ylabel('Calificación promedio')\n",
        "plt.ylim(3.8, 4.1)\n",
        "\n",
        "# Etiquetas\n",
        "for i, val in enumerate(calificaciones):\n",
        "    plt.text(tiendas[i], val + 0.01, f\"{val:.2f}\", ha='center')\n",
        "\n",
        "plt.tight_layout()\n",
        "plt.show()\n",
        "\n",
        "\n",
        "\n"
      ],
      "metadata": {
        "colab": {
          "base_uri": "https://localhost:8080/",
          "height": 507
        },
        "id": "O9WB4gLsF-Q0",
        "outputId": "9feb00f2-e409-4947-f035-f04377f0f026"
      },
      "execution_count": null,
      "outputs": [
        {
          "output_type": "display_data",
          "data": {
            "text/plain": [
              "<Figure size 800x500 with 1 Axes>"
            ],
            "image/png": "[encoded data removed]"
          },
          "metadata": {}
        }
      ]
    },
    {
      "cell_type": "markdown",
      "source": [
        "### ⭐ Calificación promedio por tienda\n",
        "\n",
        "La siguiente gráfica muestra la calificación promedio que los clientes han otorgado a cada tienda, lo cual es un indicador clave de satisfacción:\n",
        "\n",
        "- **Tienda 3** es la mejor evaluada con **4.05**, lo que sugiere una experiencia muy positiva para los clientes.\n",
        "- **Tienda 2** y **Tienda 4** también mantienen niveles altos de satisfacción.\n",
        "- **Tienda 1** tiene la calificación más baja (**3.98**), lo cual podría indicar áreas de mejora en atención, calidad o manejo de expectativas.\n",
        "\n"
      ],
      "metadata": {
        "id": "0GehoCrRGUvm"
      }
    },
    {
      "cell_type": "markdown",
      "source": [
        "# 🔝 Productos más y menos vendidos"
      ],
      "metadata": {
        "id": "DmNp1KPBZCm-"
      }
    },
    {
      "cell_type": "code",
      "source": [
        "def mostrar_top_bottom(nombre, top, bottom):\n",
        "    print(f\"🔝 Top 5 productos más vendidos - {nombre}:\")\n",
        "    for producto, cantidad in top.items():\n",
        "        print(f\"  - {producto}: {cantidad} ventas\")\n",
        "\n",
        "    print(f\"\\n🔻 5 productos menos vendidos - {nombre}:\")\n",
        "    for producto, cantidad in bottom.items():\n",
        "        print(f\"  - {producto}: {cantidad} ventas\")\n",
        "\n",
        "    print(\"\\n\" + \"=\"*50 + \"\\n\")\n",
        "\n",
        "# Usarla así:\n",
        "mostrar_top_bottom(\"Tienda 1\", top5_1, bottom5_1)\n",
        "mostrar_top_bottom(\"Tienda 2\", top5_2, bottom5_2)\n",
        "mostrar_top_bottom(\"Tienda 3\", top5_3, bottom5_3)\n",
        "mostrar_top_bottom(\"Tienda 4\", top5_4, bottom5_4)\n"
      ],
      "metadata": {
        "id": "qoyjqijQZHfF",
        "colab": {
          "base_uri": "https://localhost:8080/"
        },
        "outputId": "8e1a2922-247e-4886-a967-9f58d98e6d63"
      },
      "execution_count": null,
      "outputs": [
        {
          "output_type": "stream",
          "name": "stdout",
          "text": [
            "🔝 Top 5 productos más vendidos - Tienda 1:\n",
            "  - Microondas: 60 ventas\n",
            "  - TV LED UHD 4K: 60 ventas\n",
            "  - Armario: 60 ventas\n",
            "  - Secadora de ropa: 58 ventas\n",
            "  - Mesa de noche: 56 ventas\n",
            "\n",
            "🔻 5 productos menos vendidos - Tienda 1:\n",
            "  - Ciencia de datos con Python: 39 ventas\n",
            "  - Pandereta: 36 ventas\n",
            "  - Olla de presión: 35 ventas\n",
            "  - Auriculares con micrófono: 33 ventas\n",
            "  - Celular ABXY: 33 ventas\n",
            "\n",
            "==================================================\n",
            "\n",
            "🔝 Top 5 productos más vendidos - Tienda 2:\n",
            "  - Iniciando en programación: 65 ventas\n",
            "  - Microondas: 62 ventas\n",
            "  - Batería: 61 ventas\n",
            "  - Guitarra acústica: 58 ventas\n",
            "  - Pandereta: 58 ventas\n",
            "\n",
            "🔻 5 productos menos vendidos - Tienda 2:\n",
            "  - Auriculares: 37 ventas\n",
            "  - Sillón: 35 ventas\n",
            "  - Mesa de comedor: 34 ventas\n",
            "  - Impresora: 34 ventas\n",
            "  - Juego de mesa: 32 ventas\n",
            "\n",
            "==================================================\n",
            "\n",
            "🔝 Top 5 productos más vendidos - Tienda 3:\n",
            "  - Kit de bancas: 57 ventas\n",
            "  - Mesa de comedor: 56 ventas\n",
            "  - Cama king: 56 ventas\n",
            "  - Set de ollas: 55 ventas\n",
            "  - Mesa de noche: 55 ventas\n",
            "\n",
            "🔻 5 productos menos vendidos - Tienda 3:\n",
            "  - Guitarra eléctrica: 38 ventas\n",
            "  - Set de vasos: 36 ventas\n",
            "  - Mochila: 36 ventas\n",
            "  - Microondas: 36 ventas\n",
            "  - Bloques de construcción: 35 ventas\n",
            "\n",
            "==================================================\n",
            "\n",
            "🔝 Top 5 productos más vendidos - Tienda 4:\n",
            "  - Cama box: 62 ventas\n",
            "  - Cubertería: 59 ventas\n",
            "  - Dashboards con Power BI: 56 ventas\n",
            "  - Cama king: 56 ventas\n",
            "  - Carrito de control remoto: 55 ventas\n",
            "\n",
            "🔻 5 productos menos vendidos - Tienda 4:\n",
            "  - Refrigerador: 38 ventas\n",
            "  - Ciencia de datos con Python: 38 ventas\n",
            "  - Guitarra acústica: 37 ventas\n",
            "  - Armario: 34 ventas\n",
            "  - Guitarra eléctrica: 33 ventas\n",
            "\n",
            "==================================================\n",
            "\n"
          ]
        }
      ]
    },
    {
      "cell_type": "markdown",
      "source": [
        "#### 🔝 Top 5 Productos Más Vendidos\n",
        "\n",
        "- **Diversidad por tienda**: Aunque algunas categorías se repiten, cada tienda muestra preferencias marcadas:\n",
        "  - **Tienda 1**: Domina con productos del hogar como *Microondas*, *TV*, *Armario* y *Secadora*.\n",
        "  - **Tienda 2**: Llama la atención por incluir libros (*Iniciando en programación*) y música (*Guitarra acústica* y *Pandereta*), lo que sugiere un perfil más diverso y orientado a estilo de vida.\n",
        "  - **Tienda 3**: Se enfoca en mobiliario y descanso (*Mesa de comedor*, *Cama king*, *Mesa de noche*), alineándose con su alto desempeño en la categoría Muebles.\n",
        "  - **Tienda 4**: Predomina en artículos de dormitorio y cocina, con un toque tecnológico (*Dashboards con Power BI*), lo que podría indicar una audiencia más profesional o digitalizada.\n",
        "\n",
        "#### 🔻 5 Productos Menos Vendidos\n",
        "\n",
        "- **Patrones comunes**:\n",
        "  - *Ciencia de datos con Python* aparece como producto de baja rotación en **Tienda 1** y **Tienda 4**, lo que puede sugerir una oferta poco alineada con el público objetivo de esas tiendas.\n",
        "  - *Auriculares* y *Guitarras eléctricas* se repiten entre productos menos vendidos, posiblemente por competencia interna o falta de promoción.\n",
        "\n",
        "- **Tienda 3** sorprende con *Microondas* como producto menos vendido, pese a su éxito en otras tiendas. Esto podría deberse a sobreposición con otros productos similares o saturación de la categoría.\n",
        "\n",
        "#### 🎯 Implicaciones Estratégicas\n",
        "\n",
        "- Las diferencias en productos más vendidos refuerzan la necesidad de segmentar inventario según perfil y comportamiento de compra por tienda.\n",
        "- La presencia de productos de tecnología y formación en algunas tiendas sugiere oportunidades para campañas específicas.\n",
        "- Productos repetidamente menos vendidos deberían ser reevaluados para rotación, oferta especial o exclusión, optimizando el inventario por tienda."
      ],
      "metadata": {
        "id": "TjOXPrg3bdMj"
      }
    },
    {
      "cell_type": "markdown",
      "source": [
        "# 🚚 Costo de envío promedio"
      ],
      "metadata": {
        "id": "Fl0cGi3bZKqU"
      }
    },
    {
      "cell_type": "code",
      "source": [
        "# Tienda 1\n",
        "envio1 = tienda[\"Costo de envío\"].mean()\n",
        "print(\"Tienda 1: $\", round(envio1, 2))\n",
        "\n",
        "# Tienda 2\n",
        "envio2 = tienda2[\"Costo de envío\"].mean()\n",
        "print(\"Tienda 2: $\", round(envio2, 2))\n",
        "\n",
        "# Tienda 3\n",
        "envio3 = tienda3[\"Costo de envío\"].mean()\n",
        "print(\"Tienda 3: $\", round(envio3, 2))\n",
        "\n",
        "# Tienda 4\n",
        "envio4 = tienda4[\"Costo de envío\"].mean()\n",
        "print(\"Tienda 4: $\", round(envio4, 2))\n",
        "\n",
        "costos_envio = {\n",
        "    \"Tienda 1\": envio1,\n",
        "    \"Tienda 2\": envio2,\n",
        "    \"Tienda 3\": envio3,\n",
        "    \"Tienda 4\": envio4\n",
        "}"
      ],
      "metadata": {
        "id": "S2JeaCykZNy9",
        "colab": {
          "base_uri": "https://localhost:8080/"
        },
        "outputId": "5e7cee86-65db-4eb7-dfd5-e1e044d03b6e"
      },
      "execution_count": 4,
      "outputs": [
        {
          "output_type": "stream",
          "name": "stdout",
          "text": [
            "Tienda 1: $ 26018.61\n",
            "Tienda 2: $ 25216.24\n",
            "Tienda 3: $ 24805.68\n",
            "Tienda 4: $ 23459.46\n"
          ]
        }
      ]
    },
    {
      "cell_type": "code",
      "source": [
        "import matplotlib.pyplot as plt\n",
        "import numpy as np\n",
        "\n",
        "# Datos\n",
        "costos_envio = {\n",
        "    \"Tienda 1\": 26018.61,\n",
        "    \"Tienda 2\": 25216.24,\n",
        "    \"Tienda 3\": 24805.68,\n",
        "    \"Tienda 4\": 23459.46\n",
        "}\n",
        "\n",
        "fig, ax = plt.subplots(figsize=(10, 2))\n",
        "gradient = np.linspace(0, 1, 256).reshape(1, -1)\n",
        "ax.imshow(gradient, extent=[23000, 27000, -0.5, 0.5], cmap='coolwarm', aspect='auto')\n",
        "\n",
        "# Marcadores\n",
        "for tienda, valor in costos_envio.items():\n",
        "    ax.plot(valor, 0, 'o', label=f\"{tienda}: ${valor:,.0f}\", markersize=8)\n",
        "\n",
        "ax.set_title(\" Escala térmica de costos de envío\", fontsize=13)\n",
        "ax.set_yticks([])\n",
        "ax.legend(loc='center left', bbox_to_anchor=(1, 0.5))\n",
        "plt.tight_layout()\n",
        "plt.show()\n",
        "\n",
        "\n"
      ],
      "metadata": {
        "id": "0tSdCie9ZQlt",
        "colab": {
          "base_uri": "https://localhost:8080/",
          "height": 207
        },
        "outputId": "0c3b9e76-1019-40cf-9e6e-77fa9af78e87"
      },
      "execution_count": 15,
      "outputs": [
        {
          "output_type": "display_data",
          "data": {
            "text/plain": [
              "<Figure size 1000x200 with 1 Axes>"
            ],
            "image/png": "[encoded data removed]"
          },
          "metadata": {}
        }
      ]
    },
    {
      "cell_type": "markdown",
      "source": [
        "Esta visualización destaca de forma inmediata qué tiendas incurren en mayores gastos logísticos:\n",
        "\n",
        "Tienda 1 muestra el valor más elevado con $26,018.61, lo que sugiere procesos logísticos más costosos o rutas de distribución menos eficientes.\n",
        "\n",
        "Tienda 2 y Tienda 3 presentan costos intermedios ($25,216.24 y $24,805.68, respectivamente), aún por encima del promedio general.\n",
        "\n",
        "Tienda 4, con $23,459.46, se posiciona como la más eficiente en términos de costos de envío, lo cual puede representar una ventaja competitiva en términos de rentabilidad."
      ],
      "metadata": {
        "id": "QE6DUWr62wjQ"
      }
    },
    {
      "cell_type": "markdown",
      "source": [
        "## 🔍 Desarrollo del análisis\n",
        "\n",
        "### 📊 Facturación total por tienda\n",
        "\n",
        "- **Tienda 1**: $1,150,880,400.00  \n",
        "- **Tienda 2**: $1,116,343,500.00  \n",
        "- **Tienda 3**: $1,098,019,600.00  \n",
        "- **Tienda 4**: $1,038,375,700.00\n",
        "\n",
        "### 🌟 Calificación promedio de clientes\n",
        "\n",
        "- **Tienda 1**: 3.98  \n",
        "- **Tienda 2**: 4.04  \n",
        "- **Tienda 3**: 4.05  \n",
        "- **Tienda 4**: 4.00\n",
        "\n",
        "### 🚚 Costo promedio de envío\n",
        "\n",
        "- **Tienda 1**: $26,018.61  \n",
        "- **Tienda 2**: $25,216.24  \n",
        "- **Tienda 3**: $24,805.68  \n",
        "- **Tienda 4**: $23,459.46\n",
        "\n",
        "### 🧮 Ventas por Categoría\n",
        "\n",
        "| Categoría            | Tienda 1 | Tienda 2 | Tienda 3 | Tienda 4 |\n",
        "|----------------------|----------|----------|----------|----------|\n",
        "| Deportes y diversión | 284      | 275      | 277      | 277      |\n",
        "| Electrodomésticos    | 312      | 305      | 278      | **254**  |\n",
        "| Electrónicos         | 448      | 422      | **451**  | **451**  |\n",
        "| Juguetes             | 324      | 313      | 315      | **338**  |\n",
        "| Muebles              | 465      | 442      | **499**  | 480      |\n",
        "\n",
        "### 🛍️ Productos más y menos vendidos\n",
        "\n",
        "**Tienda 1**  \n",
        "🔝 Microondas, TV LED UHD 4K, Armario  \n",
        "🔻 Ciencia de datos con Python, Pandereta, Celular ABXY  \n",
        "\n",
        "**Tienda 2**  \n",
        "🔝 Iniciando en programación, Microondas, Batería  \n",
        "🔻 Auriculares, Sillón, Juego de mesa  \n",
        "\n",
        "**Tienda 3**  \n",
        "🔝 Kit de bancas, Mesa de comedor, Cama king  \n",
        "🔻 Mochila, Microondas, Bloques de construcción  \n",
        "\n",
        "**Tienda 4**  \n",
        "🔝 Cama box, Dashboards con Power BI, Carrito de control remoto  \n",
        "🔻 Refrigerador, Guitarra acústica, Armario\n",
        "\n",
        "---\n",
        "\n",
        "## 🧾 Conclusión Final y Recomendación\n",
        "\n",
        "Tras revisar los datos y gráficos generados, se identifican fortalezas y debilidades de cada tienda:\n",
        "\n",
        "- **Tienda 1**: Genera la mayor facturación, pero tiene la calificación más baja (3.98) y el costo de envío más alto.\n",
        "- **Tienda 2**: Tiene rendimiento medio en todos los aspectos, sin indicadores sobresalientes.\n",
        "- **Tienda 3**: Logra un balance ideal entre buena facturación, mayor calificación (4.05), excelente desempeño en categorías clave (muebles y electrónicos) y eficiencia operativa.\n",
        "- **Tienda 4**: Aunque tiene el menor costo de envío ($23,459.46), también presenta **la facturación más baja**, un desempeño limitado en electrodomésticos, y calificación promedio sin ventaja competitiva.\n",
        "\n",
        "### 📌 Recomendación\n",
        "\n",
        "Se recomienda al Sr. Juan **vender la Tienda 4**, al ser la **menos eficiente** y competitiva del grupo analizado. Esta decisión permite enfocar sus recursos en tiendas con mayor potencial de crecimiento, rentabilidad y reputación, sentando una base sólida para su nuevo emprendimiento.\n",
        "\n",
        "---\n"
      ],
      "metadata": {
        "id": "3CSoAuoq4xJI"
      }
    }
  ]
}